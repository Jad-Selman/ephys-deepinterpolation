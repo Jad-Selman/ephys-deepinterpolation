{
 "cells": [
  {
   "cell_type": "code",
   "execution_count": null,
   "id": "a4f136ae",
   "metadata": {},
   "outputs": [],
   "source": [
    "import json\n",
    "import numpy as np\n",
    "from pathlib import Path\n",
    "import matplotlib.pyplot as plt\n",
    "\n",
    "\n",
    "import spikeinterface.extractors as se\n",
    "import spikeinterface.preprocessing as spre\n",
    "import spikeinterface.widgets as sw\n",
    "\n",
    "# the generator is in the \"spikeinterface_generator.py\"\n",
    "from spikeinterface_generator import SpikeInterfaceGenerator\n",
    "\n",
    "\n",
    "%matplotlib widget"
   ]
  },
  {
   "cell_type": "markdown",
   "id": "33e1d6c6",
   "metadata": {},
   "source": [
    "### Load NP2 dataset (and preprocess)"
   ]
  },
  {
   "cell_type": "code",
   "execution_count": null,
   "id": "03da9c1d",
   "metadata": {},
   "outputs": [],
   "source": [
    "# example of data generation in spike interface\n",
    "folder_path = \"/home/alessio/Documents/data/allen/npix-open-ephys/595262_2022-02-22_16-47-26/\"\n",
    "recording = se.read_openephys(folder_path)"
   ]
  },
  {
   "cell_type": "code",
   "execution_count": null,
   "id": "e5a78ca4",
   "metadata": {},
   "outputs": [],
   "source": [
    "rec_f = spre.bandpass_filter(recording)\n",
    "rec_norm = spre.zscore(rec_f)"
   ]
  },
  {
   "cell_type": "code",
   "execution_count": null,
   "id": "87a7403a",
   "metadata": {},
   "outputs": [],
   "source": [
    "sw.plot_timeseries(rec_f, backend=\"ipywidgets\")"
   ]
  },
  {
   "cell_type": "markdown",
   "id": "893ba3ec",
   "metadata": {},
   "source": [
    "### Test SpikeInterfaceGenerator behavior"
   ]
  },
  {
   "cell_type": "code",
   "execution_count": null,
   "id": "e21b428f",
   "metadata": {},
   "outputs": [],
   "source": [
    "si_generator = SpikeInterfaceGenerator(rec_norm, batch_size=10, zscore=False)"
   ]
  },
  {
   "cell_type": "code",
   "execution_count": null,
   "id": "ab2c6235",
   "metadata": {},
   "outputs": [],
   "source": [
    "input_0, output_0 = si_generator[0]"
   ]
  },
  {
   "cell_type": "code",
   "execution_count": null,
   "id": "345efb18",
   "metadata": {},
   "outputs": [],
   "source": [
    "si_generator.batch_size"
   ]
  },
  {
   "cell_type": "code",
   "execution_count": null,
   "id": "69ce860f",
   "metadata": {},
   "outputs": [],
   "source": [
    "input_0.shape"
   ]
  },
  {
   "cell_type": "code",
   "execution_count": null,
   "id": "fb0dcef6",
   "metadata": {},
   "outputs": [],
   "source": [
    "output_0.shape"
   ]
  },
  {
   "cell_type": "markdown",
   "id": "1a629606",
   "metadata": {},
   "source": [
    "### Perform small training"
   ]
  },
  {
   "cell_type": "code",
   "execution_count": null,
   "id": "a729da9a",
   "metadata": {},
   "outputs": [],
   "source": [
    "from deepinterpolation.trainor_collection import core_trainer\n",
    "from deepinterpolation.network_collection import unet_single_ephys_1024\n",
    "from deepinterpolation.generic import ClassLoader\n",
    "from pathlib import Path"
   ]
  },
  {
   "cell_type": "code",
   "execution_count": null,
   "id": "17ea7fe6",
   "metadata": {},
   "outputs": [],
   "source": [
    "start_frame_training = int(0 * rec_norm.sampling_frequency)\n",
    "end_frame_training = int(0.1 * rec_norm.sampling_frequency)\n",
    "start_frame_test = int(20 * rec_norm.sampling_frequency) \n",
    "end_frame_test = int(20.05 * rec_norm.sampling_frequency)"
   ]
  },
  {
   "cell_type": "code",
   "execution_count": null,
   "id": "f15bb1b2",
   "metadata": {
    "scrolled": false
   },
   "outputs": [],
   "source": [
    "# Training (from Training class)\n",
    "output_folder = Path(\"test_training\")\n",
    "output_folder.mkdir(exist_ok=True)\n",
    "\n",
    "training_data_generator = SpikeInterfaceGenerator(rec_norm, zscore=False, \n",
    "                                                  start_frame=start_frame_training,\n",
    "                                                  end_frame=end_frame_training)\n",
    "test_data_generator = SpikeInterfaceGenerator(rec_norm, zscore=False, \n",
    "                                              start_frame=start_frame_test,\n",
    "                                              end_frame=end_frame_test)\n",
    "\n",
    "\n",
    " # Those are parameters used for the network topology\n",
    "network_params = dict()\n",
    "network_params[\"type\"] = \"network\"\n",
    "network_params[\n",
    "    \"name\"\n",
    "] = \"unet_single_ephys_1024\"  # Name of network topology in the collection\n",
    "\n",
    "network_json_path = output_folder / \"network_params.json\"\n",
    "with open(network_json_path, \"w\") as f:\n",
    "    json.dump(network_params, f)\n",
    "\n",
    "network_obj = ClassLoader(network_json_path)\n",
    "data_network = network_obj.find_and_build()(network_json_path)\n",
    "\n",
    "training_params = dict()\n",
    "training_params[\"loss\"] = \"mean_absolute_error\"\n",
    "\n",
    "training_params[\"model_string\"] = (\n",
    "    \"unet_single_ephys_1024\"\n",
    "    + \"_\"\n",
    "    + training_params[\"loss\"]\n",
    ")\n",
    "training_params[\"output_dir\"] = str(output_folder)\n",
    "# We pass on the uid\n",
    "training_params[\"run_uid\"] = \"first_test\"\n",
    "\n",
    "# We convert to old schema\n",
    "training_params[\"nb_gpus\"] = 1\n",
    "training_params[\"type\"] = \"trainer\"\n",
    "training_params[\"steps_per_epoch\"] = 10\n",
    "training_params[\"period_save\"] = 5\n",
    "training_params[\"apply_learning_decay\"] = 0\n",
    "training_params[\"nb_times_through_data\"] = 1\n",
    "training_params[\"learning_rate\"] = 0.0001\n",
    "training_params[\"pre_post_frame\"] = 1\n",
    "training_params[\"loss\"] = \"mean_absolute_error\"\n",
    "training_params[\"nb_workers\"] = 1\n",
    "\n",
    "training_json_path = output_folder / \"training_params.json\"\n",
    "with open(training_json_path, \"w\") as f:\n",
    "    json.dump(training_params, f)\n",
    "\n",
    "\n",
    "training_class = core_trainer(\n",
    "    training_data_generator, test_data_generator, data_network,\n",
    "    training_json_path\n",
    ")\n",
    "\n",
    "print(\"created objects for training\")\n",
    "training_class.run()\n",
    "\n",
    "print(\"training job finished - finalizing output model\")\n",
    "training_class.finalize()"
   ]
  },
  {
   "cell_type": "markdown",
   "id": "e90a864b",
   "metadata": {},
   "source": [
    "### Test inference"
   ]
  },
  {
   "cell_type": "code",
   "execution_count": null,
   "id": "95cf3d42",
   "metadata": {},
   "outputs": [],
   "source": [
    "sample_input, original_data = test_data_generator[0]"
   ]
  },
  {
   "cell_type": "code",
   "execution_count": null,
   "id": "dc94efa9",
   "metadata": {},
   "outputs": [],
   "source": [
    "output = training_class.local_model.predict(sample_input)\n",
    "output_data = test_data_generator.reshape_output(output)\n",
    "input_data = original_data.squeeze().reshape(-1, recording.get_num_channels())"
   ]
  },
  {
   "cell_type": "code",
   "execution_count": null,
   "id": "1834f749",
   "metadata": {},
   "outputs": [],
   "source": [
    "fig, axs = plt.subplots(ncols=2)\n",
    "axs[0].imshow(input_data.T, origin=\"lower\", cmap=\"RdGy_r\")\n",
    "axs[1].imshow(output_data.T, origin=\"lower\", cmap=\"RdGy_r\")"
   ]
  }
 ],
 "metadata": {
  "kernelspec": {
   "display_name": "Python 3 (ipykernel)",
   "language": "python",
   "name": "python3"
  },
  "language_info": {
   "codemirror_mode": {
    "name": "ipython",
    "version": 3
   },
   "file_extension": ".py",
   "mimetype": "text/x-python",
   "name": "python",
   "nbconvert_exporter": "python",
   "pygments_lexer": "ipython3",
   "version": "3.9.13"
  }
 },
 "nbformat": 4,
 "nbformat_minor": 5
}
